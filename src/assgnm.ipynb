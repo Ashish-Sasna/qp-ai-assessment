{
 "cells": [
  {
   "cell_type": "markdown",
   "id": "fc19852e",
   "metadata": {},
   "source": [
    "# ⤵️Import Libraries"
   ]
  },
  {
   "cell_type": "code",
   "execution_count": 4,
   "id": "b474baa6",
   "metadata": {},
   "outputs": [],
   "source": [
    "import os\n",
    "import PyPDF2\n",
    "import pandas as pd\n",
    "\n",
    "import matplotlib.pyplot as plt\n",
    "%matplotlib inline\n",
    "\n",
    "import warnings\n",
    "warnings.filterwarnings('ignore')\n",
    "\n",
    "import seaborn as sns"
   ]
  },
  {
   "cell_type": "markdown",
   "id": "32c764df",
   "metadata": {},
   "source": [
    "# 📂Load Data"
   ]
  },
  {
   "cell_type": "code",
   "execution_count": 5,
   "id": "47d6ca0d",
   "metadata": {},
   "outputs": [],
   "source": [
    "os.chdir('..')\n",
    "curr_dir = (os.getcwd()).replace('\\\\', '/')\n",
    "file_path = curr_dir + '/Dataset/Project plan outline.pdf'"
   ]
  },
  {
   "cell_type": "code",
   "execution_count": 6,
   "id": "f5df9b54",
   "metadata": {},
   "outputs": [],
   "source": [
    "pdfFObj = open(file_path, 'rb')\n",
    "pdfFile = PyPDF2.PdfReader(pdfFObj)"
   ]
  },
  {
   "cell_type": "code",
   "execution_count": 10,
   "id": "cec31db1",
   "metadata": {},
   "outputs": [
    {
     "name": "stdout",
     "output_type": "stream",
     "text": [
      "ELEC6259  Project Preparation – Project Plan Template  1 \n",
      "Title  Personal Loan defaulter prediction  \n",
      "Student  name : Ashish Sasanapuri  \n",
      "Supervisor name:  Jize Yan  \n",
      " \n",
      "Aims/research question and Objectives  \n",
      "Banking industry are one of the most important aspects of a nation’s economy. It  has in many ways helped in \n",
      "contributing to the economic household of the citizens. Among those is the loan business which has been \n",
      "established by the banks for the consumers to run their households. The loan lending system is a risky business \n",
      "that has to be carried out by the banks in order to balance their revenue. However, many banks follow a \n",
      "rigorous procedure of analyzing and running legal background checks on the customer to lend a loan. \n",
      "Customers borrow loans for various reasons, be it for a business , education, or house. The loan lending process \n",
      "can be a part of the traditional bank industry as well as the internet finance industry. The major problem faced \n",
      "by banks that affect their economy is loan defaults. There is a huge risk of customers not bein g able to pay their \n",
      "debt on time or in some cases avoiding paying entirely.  \n",
      "  \n",
      "Loan default analysis has become a necessity in risk assessment to avoid bankruptcy. The banking industry \n",
      "requires to follow strict guidelines when assessing a customer’s backgro und. It involves many factors such as \n",
      "loan history, customer assets, customer income, etc. The aim of this project is to design a prediction system \n",
      "using machine learning algorithms to predict whether an individual who plans to borrow a loan from a bank wi ll \n",
      "be able to pay the debt on time. The risk involved in loan defaults has an impact at an organizational level \n",
      "which falls upon the bank to be liable for the actions. Implementing this project will help the banking industry \n",
      "avoid relying on 3 rd party agen cies and identify the factors impacting the loan defaulters. An early prediction \n",
      "will help minimize the risk associated with loan disbursements to individuals.  \n",
      " \n",
      " \n",
      " \n",
      " \n",
      "  \n"
     ]
    }
   ],
   "source": [
    "print(pdfFile.pages[0].extract_text())"
   ]
  },
  {
   "cell_type": "code",
   "execution_count": null,
   "id": "a97dfb76",
   "metadata": {},
   "outputs": [],
   "source": []
  }
 ],
 "metadata": {
  "kernelspec": {
   "display_name": "Python 3 (ipykernel)",
   "language": "python",
   "name": "python3"
  },
  "language_info": {
   "codemirror_mode": {
    "name": "ipython",
    "version": 3
   },
   "file_extension": ".py",
   "mimetype": "text/x-python",
   "name": "python",
   "nbconvert_exporter": "python",
   "pygments_lexer": "ipython3",
   "version": "3.9.18"
  }
 },
 "nbformat": 4,
 "nbformat_minor": 5
}
